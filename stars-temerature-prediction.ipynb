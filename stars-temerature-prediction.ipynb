{
 "cells": [
  {
   "cell_type": "markdown",
   "metadata": {},
   "source": [
    "# Описание проекта"
   ]
  },
  {
   "cell_type": "markdown",
   "metadata": {},
   "source": [
    "## Цель проекта"
   ]
  },
  {
   "cell_type": "markdown",
   "metadata": {},
   "source": [
    "Разработать нейросеть, способную определять температуру на поверхности звёз, исходя из их характеристик. В наличие имеются данные по 240 уже изученным звёздам"
   ]
  },
  {
   "cell_type": "markdown",
   "metadata": {},
   "source": [
    "## Описание данных"
   ]
  },
  {
   "cell_type": "markdown",
   "metadata": {},
   "source": [
    "Датасет содержит следующие данные по объектам:\n",
    "* Относительная светимость `L/Lo` — светимость звезды относительно Солнца.\n",
    "* Относительный радиус `R/Ro` — радиус звезды относительно радиуса Солнца.\n",
    "* Абсолютная звёздная величина `Mv` — физическая величина, характеризующая блеск звезды.\n",
    "* Звёздный цвет (`white`, `red`, `blue`, `yellow`, `yellow-orange` и др.) — цвет звезды, который определяют на основе спектрального анализа.\n",
    "* Тип звезды:\n",
    "\n",
    "| Тип звезды | Номер, соответствующий типу |\n",
    "| ---------- | --------------------------- |\n",
    "| Коричневый карлик | 0 |\n",
    "| Красный карлик | 1 |\n",
    "| Белый карлик | 2 |\n",
    "| Звёзды главной последовательности | 3 |\n",
    "| Сверхгигант | 4 |\n",
    "| Гипергигант | 5 |\n",
    "\n",
    "* Абсолютная температура `T(K)` — температура на поверхности звезды в Кельвинах."
   ]
  },
  {
   "cell_type": "markdown",
   "metadata": {},
   "source": [
    "# Загрузка данных"
   ]
  },
  {
   "cell_type": "markdown",
   "metadata": {},
   "source": [
    "## Импорт библиотек"
   ]
  },
  {
   "cell_type": "code",
   "execution_count": 1,
   "metadata": {},
   "outputs": [],
   "source": [
    "import random\n",
    "import pandas as pd\n",
    "import numpy as np\n",
    "import seaborn as sns\n",
    "import matplotlib.pyplot as plt\n",
    "\n",
    "from ydata_profiling import ProfileReport\n",
    "\n",
    "from os import path\n",
    "\n",
    "from fuzzywuzzy import fuzz\n",
    "from tqdm import tqdm\n",
    "\n",
    "from sklearn.model_selection import train_test_split\n",
    "from sklearn.preprocessing import StandardScaler\n",
    "from sklearn.metrics import mean_squared_error, mean_absolute_error"
   ]
  },
  {
   "cell_type": "code",
   "execution_count": 2,
   "metadata": {},
   "outputs": [],
   "source": [
    "import torch\n",
    "import torch.nn as nn\n",
    "from torch.utils.data import TensorDataset, DataLoader"
   ]
  },
  {
   "cell_type": "markdown",
   "metadata": {},
   "source": [
    "## Глобальные переменные"
   ]
  },
  {
   "cell_type": "code",
   "execution_count": 3,
   "metadata": {},
   "outputs": [],
   "source": [
    "PATH_LOCAL_DATA = './datasets/6_class.csv'\n",
    "PATH_CLOUD_DATA = '/datasets/6_class_csv'\n",
    "PATH_DATA_REPORT = './stars-ydata-report.html'\n",
    "RND = 1337 # random state"
   ]
  },
  {
   "cell_type": "markdown",
   "metadata": {},
   "source": [
    "## Загрузка датасета"
   ]
  },
  {
   "cell_type": "code",
   "execution_count": 4,
   "metadata": {},
   "outputs": [
    {
     "name": "stdout",
     "output_type": "stream",
     "text": [
      "Loaded from the local storage.\n",
      "\n",
      "<class 'pandas.core.frame.DataFrame'>\n",
      "Index: 240 entries, 0 to 239\n",
      "Data columns (total 6 columns):\n",
      " #   Column                  Non-Null Count  Dtype  \n",
      "---  ------                  --------------  -----  \n",
      " 0   Temperature (K)         240 non-null    int64  \n",
      " 1   Luminosity(L/Lo)        240 non-null    float64\n",
      " 2   Radius(R/Ro)            240 non-null    float64\n",
      " 3   Absolute magnitude(Mv)  240 non-null    float64\n",
      " 4   Star type               240 non-null    int64  \n",
      " 5   Star color              240 non-null    object \n",
      "dtypes: float64(3), int64(2), object(1)\n",
      "memory usage: 13.1+ KB\n"
     ]
    },
    {
     "data": {
      "text/html": [
       "<div>\n",
       "<style scoped>\n",
       "    .dataframe tbody tr th:only-of-type {\n",
       "        vertical-align: middle;\n",
       "    }\n",
       "\n",
       "    .dataframe tbody tr th {\n",
       "        vertical-align: top;\n",
       "    }\n",
       "\n",
       "    .dataframe thead th {\n",
       "        text-align: right;\n",
       "    }\n",
       "</style>\n",
       "<table border=\"1\" class=\"dataframe\">\n",
       "  <thead>\n",
       "    <tr style=\"text-align: right;\">\n",
       "      <th></th>\n",
       "      <th>Temperature (K)</th>\n",
       "      <th>Luminosity(L/Lo)</th>\n",
       "      <th>Radius(R/Ro)</th>\n",
       "      <th>Absolute magnitude(Mv)</th>\n",
       "      <th>Star type</th>\n",
       "      <th>Star color</th>\n",
       "    </tr>\n",
       "  </thead>\n",
       "  <tbody>\n",
       "    <tr>\n",
       "      <th>0</th>\n",
       "      <td>3068</td>\n",
       "      <td>0.0024</td>\n",
       "      <td>0.1700</td>\n",
       "      <td>16.12</td>\n",
       "      <td>0</td>\n",
       "      <td>Red</td>\n",
       "    </tr>\n",
       "    <tr>\n",
       "      <th>1</th>\n",
       "      <td>3042</td>\n",
       "      <td>0.0005</td>\n",
       "      <td>0.1542</td>\n",
       "      <td>16.60</td>\n",
       "      <td>0</td>\n",
       "      <td>Red</td>\n",
       "    </tr>\n",
       "    <tr>\n",
       "      <th>2</th>\n",
       "      <td>2600</td>\n",
       "      <td>0.0003</td>\n",
       "      <td>0.1020</td>\n",
       "      <td>18.70</td>\n",
       "      <td>0</td>\n",
       "      <td>Red</td>\n",
       "    </tr>\n",
       "  </tbody>\n",
       "</table>\n",
       "</div>"
      ],
      "text/plain": [
       "   Temperature (K)  Luminosity(L/Lo)  Radius(R/Ro)  Absolute magnitude(Mv)  \\\n",
       "0             3068            0.0024        0.1700                   16.12   \n",
       "1             3042            0.0005        0.1542                   16.60   \n",
       "2             2600            0.0003        0.1020                   18.70   \n",
       "\n",
       "   Star type Star color  \n",
       "0          0        Red  \n",
       "1          0        Red  \n",
       "2          0        Red  "
      ]
     },
     "metadata": {},
     "output_type": "display_data"
    },
    {
     "data": {
      "text/plain": [
       "None"
      ]
     },
     "metadata": {},
     "output_type": "display_data"
    }
   ],
   "source": [
    "if path.exists(PATH_LOCAL_DATA):\n",
    "    df = pd.read_csv(PATH_LOCAL_DATA, index_col=0)\n",
    "    # PATH_PROCESSED_DATA = './datasets/autos_processed.csv'  # path to data after cleaning\n",
    "    print('Loaded from the local storage.\\n')\n",
    "elif path.exists(PATH_CLOUD_DATA):\n",
    "    df = pd.read_csv(PATH_CLOUD_DATA, index_col=0)\n",
    "    # PATH_PROCESSED_DATA = '/datasets/autos_processed.csv'  # path to data after cleaning\n",
    "    print('Loaded from the remote storage.\\n')\n",
    "else:\n",
    "    raise ValueError('Unable to load data. Check paths to files.')\n",
    "\n",
    "display(df.head(3), df.info())"
   ]
  },
  {
   "cell_type": "markdown",
   "metadata": {},
   "source": [
    "# Предобработка данных"
   ]
  },
  {
   "cell_type": "markdown",
   "metadata": {},
   "source": [
    "## Разведывательный анализ"
   ]
  },
  {
   "cell_type": "markdown",
   "metadata": {},
   "source": [
    "Проведём разведывательный анализ данных с помощью `ydata-profiling`"
   ]
  },
  {
   "cell_type": "code",
   "execution_count": 5,
   "metadata": {},
   "outputs": [
    {
     "name": "stdout",
     "output_type": "stream",
     "text": [
      "Ydata report already exists. Reporting was skipped.\n"
     ]
    }
   ],
   "source": [
    "if path.exists(PATH_DATA_REPORT):\n",
    "    print('Ydata report already exists. Reporting was skipped.')\n",
    "else:\n",
    "    df_profile = ProfileReport(df)\n",
    "    df_profile.to_widgets()\n",
    "    df_profile.to_file('stars-ydata-report.html')"
   ]
  },
  {
   "cell_type": "markdown",
   "metadata": {},
   "source": [
    "Отчёт выдаёт следующий список предупреждений (алёртов):\n",
    "* `Temperature (K)` is highly overall correlated with `Absolute magnitude(Mv)` and 1 other fields\n",
    "* `Luminosity(L/Lo)` is highly overall correlated with `Radius(R/Ro)` and 2 other fields\n",
    "* `Radius(R/Ro)` is highly overall correlated with `Luminosity(L/Lo)` and 2 other fields\n",
    "* `Absolute magnitude(Mv)` is highly overall correlated with `Temperature (K)` and 3 other fields\n",
    "* `Star type` is highly overall correlated with `Temperature (K)` and 4 other fields\n",
    "* `Star color` is highly overall correlated with `Star type`\n",
    "* `Star type` has 40 (16.7%) zeros"
   ]
  },
  {
   "cell_type": "markdown",
   "metadata": {},
   "source": [
    "Последнее предупреждение о том, что `Star type` имеет много нулей, можно игнорировать, потому что в данному случае числа являются категориальными признаками, указывающими на соответствие различным типам звёзд"
   ]
  },
  {
   "cell_type": "markdown",
   "metadata": {},
   "source": [
    "Рассмотрим подробнее хитмап матрицы корреляций"
   ]
  },
  {
   "cell_type": "code",
   "execution_count": 6,
   "metadata": {},
   "outputs": [
    {
     "data": {
      "image/png": "[encoded data removed]",
      "text/plain": [
       "<Figure size 640x480 with 2 Axes>"
      ]
     },
     "metadata": {},
     "output_type": "display_data"
    }
   ],
   "source": [
    "%matplotlib inline\n",
    "sns.heatmap(df.corr(numeric_only=True), annot=True)\n",
    "plt.title(\"Матрица корреляции\")\n",
    "plt.show()"
   ]
  },
  {
   "cell_type": "markdown",
   "metadata": {},
   "source": [
    "Коэффициент корреляции между `Star type` и `Absolute magnitude` очень высокий, но это связано с тем, что категориальный признак представлен числом. Абсолютные значения коэффициентов корреляции этих столбцов по отношению к остальным также очень близки, за исключением знака."
   ]
  },
  {
   "cell_type": "markdown",
   "metadata": {},
   "source": [
    "При подробном изучении столбца `Star type` видно что данные по этому столбцу строго стратифицированы: в датасете присутствует по 40 образцов звёзд каждого типа. Кроме того, эти типы звёзд образуют явно выраженную последовательность от сверхгигантов до коричневых карликов, так что они уже кодированы методом по принципу Ordinal Encoding. В связи с этим мы не будем разбивать классы этой категории по принципу OHE"
   ]
  },
  {
   "cell_type": "code",
   "execution_count": 7,
   "metadata": {},
   "outputs": [
    {
     "data": {
      "text/plain": [
       "Star type\n",
       "0    40\n",
       "1    40\n",
       "2    40\n",
       "3    40\n",
       "4    40\n",
       "5    40\n",
       "Name: count, dtype: int64"
      ]
     },
     "execution_count": 7,
     "metadata": {},
     "output_type": "execute_result"
    }
   ],
   "source": [
    "df[\"Star type\"].value_counts()"
   ]
  },
  {
   "cell_type": "markdown",
   "metadata": {},
   "source": [
    "Зависимость между температурой звёзд и абсолютной светимостью похоже на график главной последовательности звёзд"
   ]
  },
  {
   "cell_type": "code",
   "execution_count": 8,
   "metadata": {},
   "outputs": [
    {
     "data": {
      "image/png": "[encoded data removed]",
      "text/plain": [
       "<Figure size 640x480 with 1 Axes>"
      ]
     },
     "metadata": {},
     "output_type": "display_data"
    }
   ],
   "source": [
    "df[[\"Temperature (K)\", \"Absolute magnitude(Mv)\"]].plot(kind='scatter', x=0, y=\"Absolute magnitude(Mv)\", title=\"Главная последовательность\")\n",
    "plt.show()"
   ]
  },
  {
   "cell_type": "markdown",
   "metadata": {},
   "source": [
    "## Подготовка датасета"
   ]
  },
  {
   "cell_type": "code",
   "execution_count": 9,
   "metadata": {},
   "outputs": [
    {
     "data": {
      "text/plain": [
       "Index(['temperature', 'luminosity', 'radius', 'abs_magnitude', 'star_type',\n",
       "       'star_color'],\n",
       "      dtype='object')"
      ]
     },
     "execution_count": 9,
     "metadata": {},
     "output_type": "execute_result"
    }
   ],
   "source": [
    "# переименуем колонки\n",
    "df.columns = [\n",
    "    \"temperature\", \"luminosity\", \"radius\", \"abs_magnitude\", \"star_type\", \"star_color\"\n",
    "]\n",
    "df.columns"
   ]
  },
  {
   "cell_type": "markdown",
   "metadata": {},
   "source": [
    "Другой интересный столбец `star_color`. Он содержит информацию о цвете, полученную на основе спектрального анализа. Но текст не приведён к одному формату"
   ]
  },
  {
   "cell_type": "code",
   "execution_count": 10,
   "metadata": {},
   "outputs": [
    {
     "data": {
      "text/plain": [
       "array(['Red', 'Blue White', 'White', 'Yellowish White', 'Blue white',\n",
       "       'Pale yellow orange', 'Blue', 'Blue-white', 'Whitish',\n",
       "       'yellow-white', 'Orange', 'White-Yellow', 'white', 'Blue ',\n",
       "       'yellowish', 'Yellowish', 'Orange-Red', 'Blue white ',\n",
       "       'Blue-White'], dtype=object)"
      ]
     },
     "execution_count": 10,
     "metadata": {},
     "output_type": "execute_result"
    }
   ],
   "source": [
    "df[\"star_color\"].unique()"
   ]
  },
  {
   "cell_type": "markdown",
   "metadata": {},
   "source": [
    "Что касается самих значений, есть два способа обработать классы, имеющие упоминание нескольких цветов:\n",
    "* обработать смешанные версии цветов как отдельные категории\n",
    "* ввести отдельный класс для каждого цвета и присваивать их, исходя из описания цвета\n",
    "* * например, объект с цветом \"Pale yellow orange\" будет иметь положительный класс по столбцам с жёлтым и оранжевым цветом"
   ]
  },
  {
   "cell_type": "markdown",
   "metadata": {},
   "source": [
    "Воспользуемся вторым способом. Чтобы классифицировать цвета, будем считать расстояние Левенштейна с помощью библиотеки `fuzzywuzzy`"
   ]
  },
  {
   "cell_type": "code",
   "execution_count": 11,
   "metadata": {},
   "outputs": [],
   "source": [
    "# список цветов\n",
    "colors = [\"red\", \"blue\", \"yellow\", \"orange\", \"white\"]\n",
    "\n",
    "# порог для дистанции\n",
    "levenshtein_distance = 50"
   ]
  },
  {
   "cell_type": "markdown",
   "metadata": {},
   "source": [
    "Проверим на всех уникальных значениях столбца `star_color`, насколько корректно сработает выбранный метод"
   ]
  },
  {
   "cell_type": "code",
   "execution_count": 12,
   "metadata": {},
   "outputs": [
    {
     "data": {
      "text/html": [
       "<div>\n",
       "<style scoped>\n",
       "    .dataframe tbody tr th:only-of-type {\n",
       "        vertical-align: middle;\n",
       "    }\n",
       "\n",
       "    .dataframe tbody tr th {\n",
       "        vertical-align: top;\n",
       "    }\n",
       "\n",
       "    .dataframe thead th {\n",
       "        text-align: right;\n",
       "    }\n",
       "</style>\n",
       "<table border=\"1\" class=\"dataframe\">\n",
       "  <thead>\n",
       "    <tr style=\"text-align: right;\">\n",
       "      <th></th>\n",
       "      <th>color</th>\n",
       "      <th>c_red</th>\n",
       "      <th>c_blue</th>\n",
       "      <th>c_yellow</th>\n",
       "      <th>c_orange</th>\n",
       "      <th>c_white</th>\n",
       "    </tr>\n",
       "  </thead>\n",
       "  <tbody>\n",
       "    <tr>\n",
       "      <th>0</th>\n",
       "      <td>Red</td>\n",
       "      <td>1</td>\n",
       "      <td>0</td>\n",
       "      <td>0</td>\n",
       "      <td>0</td>\n",
       "      <td>0</td>\n",
       "    </tr>\n",
       "    <tr>\n",
       "      <th>1</th>\n",
       "      <td>Blue White</td>\n",
       "      <td>0</td>\n",
       "      <td>1</td>\n",
       "      <td>0</td>\n",
       "      <td>0</td>\n",
       "      <td>1</td>\n",
       "    </tr>\n",
       "    <tr>\n",
       "      <th>2</th>\n",
       "      <td>White</td>\n",
       "      <td>0</td>\n",
       "      <td>0</td>\n",
       "      <td>0</td>\n",
       "      <td>0</td>\n",
       "      <td>1</td>\n",
       "    </tr>\n",
       "    <tr>\n",
       "      <th>3</th>\n",
       "      <td>Yellowish White</td>\n",
       "      <td>0</td>\n",
       "      <td>0</td>\n",
       "      <td>1</td>\n",
       "      <td>0</td>\n",
       "      <td>1</td>\n",
       "    </tr>\n",
       "    <tr>\n",
       "      <th>4</th>\n",
       "      <td>Blue white</td>\n",
       "      <td>0</td>\n",
       "      <td>1</td>\n",
       "      <td>0</td>\n",
       "      <td>0</td>\n",
       "      <td>1</td>\n",
       "    </tr>\n",
       "    <tr>\n",
       "      <th>5</th>\n",
       "      <td>Pale yellow orange</td>\n",
       "      <td>0</td>\n",
       "      <td>0</td>\n",
       "      <td>1</td>\n",
       "      <td>1</td>\n",
       "      <td>0</td>\n",
       "    </tr>\n",
       "    <tr>\n",
       "      <th>6</th>\n",
       "      <td>Blue</td>\n",
       "      <td>0</td>\n",
       "      <td>1</td>\n",
       "      <td>0</td>\n",
       "      <td>0</td>\n",
       "      <td>0</td>\n",
       "    </tr>\n",
       "    <tr>\n",
       "      <th>7</th>\n",
       "      <td>Blue-white</td>\n",
       "      <td>0</td>\n",
       "      <td>1</td>\n",
       "      <td>0</td>\n",
       "      <td>0</td>\n",
       "      <td>1</td>\n",
       "    </tr>\n",
       "    <tr>\n",
       "      <th>8</th>\n",
       "      <td>Whitish</td>\n",
       "      <td>0</td>\n",
       "      <td>0</td>\n",
       "      <td>0</td>\n",
       "      <td>0</td>\n",
       "      <td>1</td>\n",
       "    </tr>\n",
       "    <tr>\n",
       "      <th>9</th>\n",
       "      <td>yellow-white</td>\n",
       "      <td>0</td>\n",
       "      <td>0</td>\n",
       "      <td>1</td>\n",
       "      <td>0</td>\n",
       "      <td>1</td>\n",
       "    </tr>\n",
       "    <tr>\n",
       "      <th>10</th>\n",
       "      <td>Orange</td>\n",
       "      <td>0</td>\n",
       "      <td>0</td>\n",
       "      <td>0</td>\n",
       "      <td>1</td>\n",
       "      <td>0</td>\n",
       "    </tr>\n",
       "    <tr>\n",
       "      <th>11</th>\n",
       "      <td>White-Yellow</td>\n",
       "      <td>0</td>\n",
       "      <td>0</td>\n",
       "      <td>1</td>\n",
       "      <td>0</td>\n",
       "      <td>1</td>\n",
       "    </tr>\n",
       "    <tr>\n",
       "      <th>12</th>\n",
       "      <td>white</td>\n",
       "      <td>0</td>\n",
       "      <td>0</td>\n",
       "      <td>0</td>\n",
       "      <td>0</td>\n",
       "      <td>1</td>\n",
       "    </tr>\n",
       "    <tr>\n",
       "      <th>13</th>\n",
       "      <td>Blue</td>\n",
       "      <td>0</td>\n",
       "      <td>1</td>\n",
       "      <td>0</td>\n",
       "      <td>0</td>\n",
       "      <td>0</td>\n",
       "    </tr>\n",
       "    <tr>\n",
       "      <th>14</th>\n",
       "      <td>yellowish</td>\n",
       "      <td>0</td>\n",
       "      <td>0</td>\n",
       "      <td>1</td>\n",
       "      <td>0</td>\n",
       "      <td>0</td>\n",
       "    </tr>\n",
       "    <tr>\n",
       "      <th>15</th>\n",
       "      <td>Yellowish</td>\n",
       "      <td>0</td>\n",
       "      <td>0</td>\n",
       "      <td>1</td>\n",
       "      <td>0</td>\n",
       "      <td>0</td>\n",
       "    </tr>\n",
       "    <tr>\n",
       "      <th>16</th>\n",
       "      <td>Orange-Red</td>\n",
       "      <td>0</td>\n",
       "      <td>0</td>\n",
       "      <td>0</td>\n",
       "      <td>1</td>\n",
       "      <td>0</td>\n",
       "    </tr>\n",
       "    <tr>\n",
       "      <th>17</th>\n",
       "      <td>Blue white</td>\n",
       "      <td>0</td>\n",
       "      <td>1</td>\n",
       "      <td>0</td>\n",
       "      <td>0</td>\n",
       "      <td>1</td>\n",
       "    </tr>\n",
       "    <tr>\n",
       "      <th>18</th>\n",
       "      <td>Blue-White</td>\n",
       "      <td>0</td>\n",
       "      <td>1</td>\n",
       "      <td>0</td>\n",
       "      <td>0</td>\n",
       "      <td>1</td>\n",
       "    </tr>\n",
       "  </tbody>\n",
       "</table>\n",
       "</div>"
      ],
      "text/plain": [
       "                 color  c_red  c_blue  c_yellow  c_orange  c_white\n",
       "0                  Red      1       0         0         0        0\n",
       "1           Blue White      0       1         0         0        1\n",
       "2                White      0       0         0         0        1\n",
       "3      Yellowish White      0       0         1         0        1\n",
       "4           Blue white      0       1         0         0        1\n",
       "5   Pale yellow orange      0       0         1         1        0\n",
       "6                 Blue      0       1         0         0        0\n",
       "7           Blue-white      0       1         0         0        1\n",
       "8              Whitish      0       0         0         0        1\n",
       "9         yellow-white      0       0         1         0        1\n",
       "10              Orange      0       0         0         1        0\n",
       "11        White-Yellow      0       0         1         0        1\n",
       "12               white      0       0         0         0        1\n",
       "13               Blue       0       1         0         0        0\n",
       "14           yellowish      0       0         1         0        0\n",
       "15           Yellowish      0       0         1         0        0\n",
       "16          Orange-Red      0       0         0         1        0\n",
       "17         Blue white       0       1         0         0        1\n",
       "18          Blue-White      0       1         0         0        1"
      ]
     },
     "execution_count": 12,
     "metadata": {},
     "output_type": "execute_result"
    }
   ],
   "source": [
    "# датафрейм с уникальными значениями цветов\n",
    "df_colors = pd.DataFrame(df[\"star_color\"].unique(), columns=[\"color\"])\n",
    "\n",
    "# классификация на основе расстояния Левенштейна\n",
    "for color in colors:\n",
    "    df_colors[\"c_\"+color] = df_colors[\"color\"].str.casefold().apply(lambda x: 1 if fuzz.ratio(x, color) >= levenshtein_distance else 0)\n",
    "\n",
    "df_colors"
   ]
  },
  {
   "cell_type": "markdown",
   "metadata": {},
   "source": [
    "Всё работает корректно, применим этот метод к основному датафрейму"
   ]
  },
  {
   "cell_type": "code",
   "execution_count": 13,
   "metadata": {},
   "outputs": [
    {
     "data": {
      "text/html": [
       "<div>\n",
       "<style scoped>\n",
       "    .dataframe tbody tr th:only-of-type {\n",
       "        vertical-align: middle;\n",
       "    }\n",
       "\n",
       "    .dataframe tbody tr th {\n",
       "        vertical-align: top;\n",
       "    }\n",
       "\n",
       "    .dataframe thead th {\n",
       "        text-align: right;\n",
       "    }\n",
       "</style>\n",
       "<table border=\"1\" class=\"dataframe\">\n",
       "  <thead>\n",
       "    <tr style=\"text-align: right;\">\n",
       "      <th></th>\n",
       "      <th>temperature</th>\n",
       "      <th>luminosity</th>\n",
       "      <th>radius</th>\n",
       "      <th>abs_magnitude</th>\n",
       "      <th>star_type</th>\n",
       "      <th>star_color</th>\n",
       "      <th>c_red</th>\n",
       "      <th>c_blue</th>\n",
       "      <th>c_yellow</th>\n",
       "      <th>c_orange</th>\n",
       "      <th>c_white</th>\n",
       "    </tr>\n",
       "  </thead>\n",
       "  <tbody>\n",
       "    <tr>\n",
       "      <th>0</th>\n",
       "      <td>3068</td>\n",
       "      <td>0.0024</td>\n",
       "      <td>0.1700</td>\n",
       "      <td>16.12</td>\n",
       "      <td>0</td>\n",
       "      <td>Red</td>\n",
       "      <td>1</td>\n",
       "      <td>0</td>\n",
       "      <td>0</td>\n",
       "      <td>0</td>\n",
       "      <td>0</td>\n",
       "    </tr>\n",
       "    <tr>\n",
       "      <th>1</th>\n",
       "      <td>3042</td>\n",
       "      <td>0.0005</td>\n",
       "      <td>0.1542</td>\n",
       "      <td>16.60</td>\n",
       "      <td>0</td>\n",
       "      <td>Red</td>\n",
       "      <td>1</td>\n",
       "      <td>0</td>\n",
       "      <td>0</td>\n",
       "      <td>0</td>\n",
       "      <td>0</td>\n",
       "    </tr>\n",
       "    <tr>\n",
       "      <th>2</th>\n",
       "      <td>2600</td>\n",
       "      <td>0.0003</td>\n",
       "      <td>0.1020</td>\n",
       "      <td>18.70</td>\n",
       "      <td>0</td>\n",
       "      <td>Red</td>\n",
       "      <td>1</td>\n",
       "      <td>0</td>\n",
       "      <td>0</td>\n",
       "      <td>0</td>\n",
       "      <td>0</td>\n",
       "    </tr>\n",
       "  </tbody>\n",
       "</table>\n",
       "</div>"
      ],
      "text/plain": [
       "   temperature  luminosity  radius  abs_magnitude  star_type star_color  \\\n",
       "0         3068      0.0024  0.1700          16.12          0        Red   \n",
       "1         3042      0.0005  0.1542          16.60          0        Red   \n",
       "2         2600      0.0003  0.1020          18.70          0        Red   \n",
       "\n",
       "   c_red  c_blue  c_yellow  c_orange  c_white  \n",
       "0      1       0         0         0        0  \n",
       "1      1       0         0         0        0  \n",
       "2      1       0         0         0        0  "
      ]
     },
     "execution_count": 13,
     "metadata": {},
     "output_type": "execute_result"
    }
   ],
   "source": [
    "for color in colors:\n",
    "    df[\"c_\"+color] = df[\"star_color\"].str.casefold().apply(lambda x: 1 if fuzz.ratio(x, color) >= levenshtein_distance else 0)\n",
    "\n",
    "df.head(3)"
   ]
  },
  {
   "cell_type": "code",
   "execution_count": 14,
   "metadata": {},
   "outputs": [
    {
     "data": {
      "text/html": [
       "<div>\n",
       "<style scoped>\n",
       "    .dataframe tbody tr th:only-of-type {\n",
       "        vertical-align: middle;\n",
       "    }\n",
       "\n",
       "    .dataframe tbody tr th {\n",
       "        vertical-align: top;\n",
       "    }\n",
       "\n",
       "    .dataframe thead th {\n",
       "        text-align: right;\n",
       "    }\n",
       "</style>\n",
       "<table border=\"1\" class=\"dataframe\">\n",
       "  <thead>\n",
       "    <tr style=\"text-align: right;\">\n",
       "      <th></th>\n",
       "      <th>temperature</th>\n",
       "      <th>luminosity</th>\n",
       "      <th>radius</th>\n",
       "      <th>abs_magnitude</th>\n",
       "      <th>star_type</th>\n",
       "      <th>c_red</th>\n",
       "      <th>c_blue</th>\n",
       "      <th>c_yellow</th>\n",
       "      <th>c_orange</th>\n",
       "      <th>c_white</th>\n",
       "    </tr>\n",
       "  </thead>\n",
       "  <tbody>\n",
       "    <tr>\n",
       "      <th>0</th>\n",
       "      <td>3068</td>\n",
       "      <td>0.0024</td>\n",
       "      <td>0.1700</td>\n",
       "      <td>16.12</td>\n",
       "      <td>0</td>\n",
       "      <td>1</td>\n",
       "      <td>0</td>\n",
       "      <td>0</td>\n",
       "      <td>0</td>\n",
       "      <td>0</td>\n",
       "    </tr>\n",
       "    <tr>\n",
       "      <th>1</th>\n",
       "      <td>3042</td>\n",
       "      <td>0.0005</td>\n",
       "      <td>0.1542</td>\n",
       "      <td>16.60</td>\n",
       "      <td>0</td>\n",
       "      <td>1</td>\n",
       "      <td>0</td>\n",
       "      <td>0</td>\n",
       "      <td>0</td>\n",
       "      <td>0</td>\n",
       "    </tr>\n",
       "    <tr>\n",
       "      <th>2</th>\n",
       "      <td>2600</td>\n",
       "      <td>0.0003</td>\n",
       "      <td>0.1020</td>\n",
       "      <td>18.70</td>\n",
       "      <td>0</td>\n",
       "      <td>1</td>\n",
       "      <td>0</td>\n",
       "      <td>0</td>\n",
       "      <td>0</td>\n",
       "      <td>0</td>\n",
       "    </tr>\n",
       "  </tbody>\n",
       "</table>\n",
       "</div>"
      ],
      "text/plain": [
       "   temperature  luminosity  radius  abs_magnitude  star_type  c_red  c_blue  \\\n",
       "0         3068      0.0024  0.1700          16.12          0      1       0   \n",
       "1         3042      0.0005  0.1542          16.60          0      1       0   \n",
       "2         2600      0.0003  0.1020          18.70          0      1       0   \n",
       "\n",
       "   c_yellow  c_orange  c_white  \n",
       "0         0         0        0  \n",
       "1         0         0        0  \n",
       "2         0         0        0  "
      ]
     },
     "execution_count": 14,
     "metadata": {},
     "output_type": "execute_result"
    }
   ],
   "source": [
    "# удаляем стобец с цветом\n",
    "df = df.drop(columns=[\"star_color\"])\n",
    "df.head(3)"
   ]
  },
  {
   "cell_type": "markdown",
   "metadata": {},
   "source": [
    "Чтобы избежать утечки целевого признака в тестовую выборку, будем стандартизировать данные уже после того, как разделим выборки на тренировочную и тестовую"
   ]
  },
  {
   "cell_type": "markdown",
   "metadata": {},
   "source": [
    "## Подготовка выборок"
   ]
  },
  {
   "cell_type": "markdown",
   "metadata": {},
   "source": [
    "### Разделение выборок и скалирование"
   ]
  },
  {
   "cell_type": "code",
   "execution_count": 15,
   "metadata": {},
   "outputs": [
    {
     "name": "stdout",
     "output_type": "stream",
     "text": [
      "(180, 9)\n",
      "(60, 9)\n",
      "(180,)\n",
      "(60,)\n"
     ]
    }
   ],
   "source": [
    "# разделяем датасет и скалируем цифровые признаки\n",
    "target_feature = \"temperature\"\n",
    "stratify_features = [\"star_type\"]\n",
    "\n",
    "df_X, df_y = df.drop(columns=[target_feature]).copy(), df[target_feature].copy()\n",
    "X_train, X_test, y_train, y_test = train_test_split(df_X, df_y, test_size=0.25, stratify=df_X[stratify_features], random_state=RND)\n",
    "\n",
    "for s in X_train, X_test, y_train, y_test:\n",
    "    print(s.shape)"
   ]
  },
  {
   "cell_type": "code",
   "execution_count": 16,
   "metadata": {},
   "outputs": [
    {
     "data": {
      "text/html": [
       "<div>\n",
       "<style scoped>\n",
       "    .dataframe tbody tr th:only-of-type {\n",
       "        vertical-align: middle;\n",
       "    }\n",
       "\n",
       "    .dataframe tbody tr th {\n",
       "        vertical-align: top;\n",
       "    }\n",
       "\n",
       "    .dataframe thead th {\n",
       "        text-align: right;\n",
       "    }\n",
       "</style>\n",
       "<table border=\"1\" class=\"dataframe\">\n",
       "  <thead>\n",
       "    <tr style=\"text-align: right;\">\n",
       "      <th></th>\n",
       "      <th>luminosity</th>\n",
       "      <th>radius</th>\n",
       "      <th>abs_magnitude</th>\n",
       "      <th>star_type</th>\n",
       "      <th>c_red</th>\n",
       "      <th>c_blue</th>\n",
       "      <th>c_yellow</th>\n",
       "      <th>c_orange</th>\n",
       "      <th>c_white</th>\n",
       "    </tr>\n",
       "  </thead>\n",
       "  <tbody>\n",
       "    <tr>\n",
       "      <th>221</th>\n",
       "      <td>1.378139</td>\n",
       "      <td>-0.309055</td>\n",
       "      <td>-1.065849</td>\n",
       "      <td>4</td>\n",
       "      <td>0</td>\n",
       "      <td>1</td>\n",
       "      <td>0</td>\n",
       "      <td>0</td>\n",
       "      <td>0</td>\n",
       "    </tr>\n",
       "    <tr>\n",
       "      <th>225</th>\n",
       "      <td>0.736672</td>\n",
       "      <td>-0.367767</td>\n",
       "      <td>-1.106434</td>\n",
       "      <td>4</td>\n",
       "      <td>0</td>\n",
       "      <td>1</td>\n",
       "      <td>0</td>\n",
       "      <td>0</td>\n",
       "      <td>0</td>\n",
       "    </tr>\n",
       "    <tr>\n",
       "      <th>215</th>\n",
       "      <td>0.433145</td>\n",
       "      <td>-0.445586</td>\n",
       "      <td>-0.814788</td>\n",
       "      <td>3</td>\n",
       "      <td>0</td>\n",
       "      <td>1</td>\n",
       "      <td>0</td>\n",
       "      <td>0</td>\n",
       "      <td>0</td>\n",
       "    </tr>\n",
       "    <tr>\n",
       "      <th>97</th>\n",
       "      <td>-0.601586</td>\n",
       "      <td>-0.455169</td>\n",
       "      <td>-0.172980</td>\n",
       "      <td>3</td>\n",
       "      <td>0</td>\n",
       "      <td>0</td>\n",
       "      <td>1</td>\n",
       "      <td>0</td>\n",
       "      <td>1</td>\n",
       "    </tr>\n",
       "    <tr>\n",
       "      <th>67</th>\n",
       "      <td>-0.601634</td>\n",
       "      <td>-0.457613</td>\n",
       "      <td>1.149335</td>\n",
       "      <td>0</td>\n",
       "      <td>1</td>\n",
       "      <td>0</td>\n",
       "      <td>0</td>\n",
       "      <td>0</td>\n",
       "      <td>0</td>\n",
       "    </tr>\n",
       "  </tbody>\n",
       "</table>\n",
       "</div>"
      ],
      "text/plain": [
       "     luminosity    radius  abs_magnitude  star_type  c_red  c_blue  c_yellow  \\\n",
       "221    1.378139 -0.309055      -1.065849          4      0       1         0   \n",
       "225    0.736672 -0.367767      -1.106434          4      0       1         0   \n",
       "215    0.433145 -0.445586      -0.814788          3      0       1         0   \n",
       "97    -0.601586 -0.455169      -0.172980          3      0       0         1   \n",
       "67    -0.601634 -0.457613       1.149335          0      1       0         0   \n",
       "\n",
       "     c_orange  c_white  \n",
       "221         0        0  \n",
       "225         0        0  \n",
       "215         0        0  \n",
       "97          0        1  \n",
       "67          0        0  "
      ]
     },
     "metadata": {},
     "output_type": "display_data"
    },
    {
     "data": {
      "text/html": [
       "<div>\n",
       "<style scoped>\n",
       "    .dataframe tbody tr th:only-of-type {\n",
       "        vertical-align: middle;\n",
       "    }\n",
       "\n",
       "    .dataframe tbody tr th {\n",
       "        vertical-align: top;\n",
       "    }\n",
       "\n",
       "    .dataframe thead th {\n",
       "        text-align: right;\n",
       "    }\n",
       "</style>\n",
       "<table border=\"1\" class=\"dataframe\">\n",
       "  <thead>\n",
       "    <tr style=\"text-align: right;\">\n",
       "      <th></th>\n",
       "      <th>luminosity</th>\n",
       "      <th>radius</th>\n",
       "      <th>abs_magnitude</th>\n",
       "      <th>star_type</th>\n",
       "      <th>c_red</th>\n",
       "      <th>c_blue</th>\n",
       "      <th>c_yellow</th>\n",
       "      <th>c_orange</th>\n",
       "      <th>c_white</th>\n",
       "    </tr>\n",
       "  </thead>\n",
       "  <tbody>\n",
       "    <tr>\n",
       "      <th>109</th>\n",
       "      <td>1.494120</td>\n",
       "      <td>-0.326669</td>\n",
       "      <td>-0.949757</td>\n",
       "      <td>4</td>\n",
       "      <td>0</td>\n",
       "      <td>1</td>\n",
       "      <td>0</td>\n",
       "      <td>0</td>\n",
       "      <td>0</td>\n",
       "    </tr>\n",
       "    <tr>\n",
       "      <th>136</th>\n",
       "      <td>-0.601634</td>\n",
       "      <td>-0.457322</td>\n",
       "      <td>0.675529</td>\n",
       "      <td>1</td>\n",
       "      <td>1</td>\n",
       "      <td>0</td>\n",
       "      <td>0</td>\n",
       "      <td>0</td>\n",
       "      <td>0</td>\n",
       "    </tr>\n",
       "    <tr>\n",
       "      <th>8</th>\n",
       "      <td>-0.601634</td>\n",
       "      <td>-0.457576</td>\n",
       "      <td>1.243719</td>\n",
       "      <td>0</td>\n",
       "      <td>1</td>\n",
       "      <td>0</td>\n",
       "      <td>0</td>\n",
       "      <td>0</td>\n",
       "      <td>0</td>\n",
       "    </tr>\n",
       "    <tr>\n",
       "      <th>237</th>\n",
       "      <td>2.598517</td>\n",
       "      <td>2.327102</td>\n",
       "      <td>-1.416012</td>\n",
       "      <td>5</td>\n",
       "      <td>0</td>\n",
       "      <td>0</td>\n",
       "      <td>0</td>\n",
       "      <td>0</td>\n",
       "      <td>1</td>\n",
       "    </tr>\n",
       "    <tr>\n",
       "      <th>123</th>\n",
       "      <td>-0.601634</td>\n",
       "      <td>-0.457609</td>\n",
       "      <td>1.193696</td>\n",
       "      <td>0</td>\n",
       "      <td>1</td>\n",
       "      <td>0</td>\n",
       "      <td>0</td>\n",
       "      <td>0</td>\n",
       "      <td>0</td>\n",
       "    </tr>\n",
       "  </tbody>\n",
       "</table>\n",
       "</div>"
      ],
      "text/plain": [
       "     luminosity    radius  abs_magnitude  star_type  c_red  c_blue  c_yellow  \\\n",
       "109    1.494120 -0.326669      -0.949757          4      0       1         0   \n",
       "136   -0.601634 -0.457322       0.675529          1      1       0         0   \n",
       "8     -0.601634 -0.457576       1.243719          0      1       0         0   \n",
       "237    2.598517  2.327102      -1.416012          5      0       0         0   \n",
       "123   -0.601634 -0.457609       1.193696          0      1       0         0   \n",
       "\n",
       "     c_orange  c_white  \n",
       "109         0        0  \n",
       "136         0        0  \n",
       "8           0        0  \n",
       "237         0        1  \n",
       "123         0        0  "
      ]
     },
     "metadata": {},
     "output_type": "display_data"
    }
   ],
   "source": [
    "# скалирование признаков\n",
    "\n",
    "scale_features = ['luminosity', 'radius', 'abs_magnitude']\n",
    "\n",
    "scaler = StandardScaler()\n",
    "scaler.fit(X_train[scale_features])\n",
    "\n",
    "for i in X_train, X_test:\n",
    "    i[scale_features] = scaler.transform(i[scale_features])\n",
    "    display(i.head())"
   ]
  },
  {
   "cell_type": "code",
   "execution_count": 17,
   "metadata": {},
   "outputs": [],
   "source": [
    "# cоздание тензоров\n",
    "X_train = torch.FloatTensor(X_train.values)\n",
    "X_test = torch.FloatTensor(X_test.values)\n",
    "y_train = torch.FloatTensor(y_train.values)\n",
    "y_test = torch.FloatTensor(y_test.values)"
   ]
  },
  {
   "cell_type": "markdown",
   "metadata": {},
   "source": [
    "## Предварительный вывод"
   ]
  },
  {
   "cell_type": "markdown",
   "metadata": {},
   "source": [
    "* В датасете нет дубликатов и пропусков, данные в целом чистые\n",
    "* Распределение магнитуды от температуры похоже на соответствующий график главной последовательности звёзд, что говорит о хорошем качестве данных\n",
    "* Мы обработали столбец с цветом, выделив в качестве признаков отдельные составляющие спектра\n",
    "* Мы выполнили стандартизацию числовых признаков\n",
    "* Столбец с типом звезды дополнительно обрабатывать не стали, поскольку он является порядковым категориальным признаком"
   ]
  },
  {
   "cell_type": "markdown",
   "metadata": {},
   "source": [
    "# Построение базовой нейронной сети"
   ]
  },
  {
   "cell_type": "code",
   "execution_count": 18,
   "metadata": {},
   "outputs": [],
   "source": [
    "# будем использовать для воспроизводимости\n",
    "torch.use_deterministic_algorithms(True)\n",
    "\n",
    "def reset_seed(seed):\n",
    "    random.seed(seed)\n",
    "    np.random.seed(seed)\n",
    "    torch.manual_seed(seed)"
   ]
  },
  {
   "cell_type": "markdown",
   "metadata": {},
   "source": [
    "## Класс для отображения отчёта"
   ]
  },
  {
   "cell_type": "markdown",
   "metadata": {},
   "source": [
    "Создадим класс, объекты которого будут собирать данные об обучении, считать метрики и строить графики"
   ]
  },
  {
   "cell_type": "code",
   "execution_count": 54,
   "metadata": {},
   "outputs": [],
   "source": [
    "# класс для формирования отчётов\n",
    "class TrainReport():\n",
    "\n",
    "    # инициирует объект и пустые листы\n",
    "    def __init__(self) -> None:\n",
    "        self.epoch = []\n",
    "        self.loss_train = []\n",
    "        self.loss_test = []\n",
    "\n",
    "    # добавляет данные в листы\n",
    "    def add_to_lists(self, epoch, loss_value_train, loss_value_test):\n",
    "        self.epoch.append(epoch)\n",
    "        self.loss_train.append(loss_value_train)\n",
    "        self.loss_test.append(loss_value_test)\n",
    "    \n",
    "    # строит графики\n",
    "    def report(self, y_preds, y_test, batch_size=1, dropout_value='None'):\n",
    "\n",
    "        # график обучения\n",
    "        self.df1 = pd.DataFrame(\n",
    "            {\n",
    "                'loss_on_train': np.sqrt(self.loss_train),\n",
    "                'loss_on_test': np.sqrt(self.loss_test)\n",
    "            },\n",
    "            index=self.epoch\n",
    "        )\n",
    "        \n",
    "        self.df1.plot(y=['loss_on_train', 'loss_on_test'], grid=True, title=\"RMSE.\\nBatch size: {}. Dropout: {}\".format(batch_size, dropout_value), xlabel=\"Epochs\", ylabel=\"Loss\")\n",
    "        plt.show()\n",
    "        \n",
    "        # график предсказанных значений по каждой звезде\n",
    "        self.df2 = pd.DataFrame(\n",
    "            {\n",
    "                'temp_predicted': y_preds.detach().numpy(),\n",
    "                'temp_test': y_test.numpy()\n",
    "            }\n",
    "        )\n",
    "        self.df2.plot(kind='bar', grid=True, title=\"Errors per test item.\\nBatch size: {}. Dropout: {}\".format(batch_size, dropout_value), xlabel='Test star ID', ylabel='Temperature', figsize=(12, 5))\n",
    "        plt.show()\n",
    "\n",
    "        print(\"Train RMSE:\", np.sqrt(self.loss_train[-1]).round())\n",
    "        print(\"Test RMSE:\", np.sqrt(self.loss_test[-1]).round())"
   ]
  },
  {
   "cell_type": "markdown",
   "metadata": {},
   "source": [
    "## Обучение baseline модели"
   ]
  },
  {
   "cell_type": "code",
   "execution_count": 20,
   "metadata": {},
   "outputs": [],
   "source": [
    "# некоторые гиперпараметры\n",
    "neurons = [9, 10, 6, 1]"
   ]
  },
  {
   "cell_type": "code",
   "execution_count": 21,
   "metadata": {},
   "outputs": [],
   "source": [
    "# baseline model\n",
    "\n",
    "class BaselineModel(nn.Module):\n",
    "    def __init__(self, neurons: list):\n",
    "        super(BaselineModel, self).__init__()\n",
    "\n",
    "        self.fc1 = nn.Linear(neurons[0], neurons[1])\n",
    "\n",
    "        self.fc2 = nn.Linear(neurons[1], neurons[2])\n",
    "\n",
    "        self.fc3 = nn.Linear(neurons[2], neurons[3])\n",
    "\n",
    "        self.relu = nn.ReLU()\n",
    "    \n",
    "    def forward(self, x):\n",
    "\n",
    "        out = self.fc1(x)\n",
    "        out = self.relu(out)\n",
    "\n",
    "        out = self.fc2(out)\n",
    "        out = self.relu(out)\n",
    "\n",
    "        out = self.fc3(out)\n",
    "        out = self.relu(out)\n",
    "\n",
    "        return out"
   ]
  },
  {
   "cell_type": "code",
   "execution_count": 22,
   "metadata": {},
   "outputs": [],
   "source": [
    "reset_seed(RND)\n",
    "\n",
    "base_model = BaselineModel(neurons)\n",
    "base_lr = 0.01\n",
    "base_loss = nn.MSELoss()\n",
    "base_optim = torch.optim.Adam(base_model.parameters(), lr=base_lr)"
   ]
  },
  {
   "cell_type": "code",
   "execution_count": 23,
   "metadata": {},
   "outputs": [
    {
     "name": "stderr",
     "output_type": "stream",
     "text": [
      "Training...:   0%|          | 0/5000 [00:00<?, ?e/s]"
     ]
    },
    {
     "name": "stderr",
     "output_type": "stream",
     "text": [
      "Training...: 100%|██████████| 5000/5000 [00:08<00:00, 585.37e/s]\n"
     ]
    },
    {
     "data": {
      "text/html": [
       "<div>\n",
       "<style scoped>\n",
       "    .dataframe tbody tr th:only-of-type {\n",
       "        vertical-align: middle;\n",
       "    }\n",
       "\n",
       "    .dataframe tbody tr th {\n",
       "        vertical-align: top;\n",
       "    }\n",
       "\n",
       "    .dataframe thead th {\n",
       "        text-align: right;\n",
       "    }\n",
       "</style>\n",
       "<table border=\"1\" class=\"dataframe\">\n",
       "  <thead>\n",
       "    <tr style=\"text-align: right;\">\n",
       "      <th></th>\n",
       "      <th>loss_on_train</th>\n",
       "      <th>loss_on_test</th>\n",
       "    </tr>\n",
       "  </thead>\n",
       "  <tbody>\n",
       "    <tr>\n",
       "      <th>0</th>\n",
       "      <td>14729.358981</td>\n",
       "      <td>12384.917279</td>\n",
       "    </tr>\n",
       "    <tr>\n",
       "      <th>200</th>\n",
       "      <td>10128.825006</td>\n",
       "      <td>8315.317432</td>\n",
       "    </tr>\n",
       "    <tr>\n",
       "      <th>400</th>\n",
       "      <td>7087.256451</td>\n",
       "      <td>7082.565919</td>\n",
       "    </tr>\n",
       "    <tr>\n",
       "      <th>600</th>\n",
       "      <td>6410.389380</td>\n",
       "      <td>6677.138309</td>\n",
       "    </tr>\n",
       "    <tr>\n",
       "      <th>800</th>\n",
       "      <td>6041.285956</td>\n",
       "      <td>6292.463746</td>\n",
       "    </tr>\n",
       "  </tbody>\n",
       "</table>\n",
       "</div>"
      ],
      "text/plain": [
       "     loss_on_train  loss_on_test\n",
       "0     14729.358981  12384.917279\n",
       "200   10128.825006   8315.317432\n",
       "400    7087.256451   7082.565919\n",
       "600    6410.389380   6677.138309\n",
       "800    6041.285956   6292.463746"
      ]
     },
     "metadata": {},
     "output_type": "display_data"
    },
    {
     "data": {
      "image/png": "[encoded data removed]",
      "text/plain": [
       "<Figure size 640x480 with 1 Axes>"
      ]
     },
     "metadata": {},
     "output_type": "display_data"
    },
    {
     "data": {
      "image/png": "[encoded data removed]",
      "text/plain": [
       "<Figure size 1200x500 with 1 Axes>"
      ]
     },
     "metadata": {},
     "output_type": "display_data"
    },
    {
     "name": "stdout",
     "output_type": "stream",
     "text": [
      "Train RMSE: 3979.0\n",
      "Test RMSE: 4568.0\n"
     ]
    }
   ],
   "source": [
    "base_report = TrainReport()\n",
    "base_epochs = 5000\n",
    "reset_seed(RND)\n",
    "\n",
    "for e in tqdm(range(base_epochs), desc=\"Training...\", unit='e'):\n",
    "    base_optim.zero_grad()\n",
    "    preds = base_model.forward(X_train).flatten()\n",
    "    loss_value = base_loss(preds, y_train)\n",
    "    loss_value.backward()\n",
    "    base_optim.step()\n",
    "\n",
    "    # проверка на тестовой\n",
    "    if e % 200 == 0 or e == base_epochs - 1:\n",
    "        base_model.eval()\n",
    "        test_preds = base_model.forward(X_test).flatten()\n",
    "        test_loss = base_loss(test_preds, y_test)\n",
    "        \n",
    "        base_report.add_to_lists(e, loss_value.item(), test_loss.item())\n",
    "\n",
    "        base_model.train()\n",
    "\n",
    "base_model.eval()\n",
    "base_report.report(test_preds, y_test)"
   ]
  },
  {
   "cell_type": "markdown",
   "metadata": {},
   "source": [
    "## Предварительный вывод"
   ]
  },
  {
   "cell_type": "markdown",
   "metadata": {},
   "source": [
    "* В результате экспериментов была получина модель, которая обеспечила значение RMSE = 4568 на тестовой выборке\n",
    "* График обучение показывает, что в определённый момент модель начинает переобучаться - значение функции потерь на тестовой выборке перестаёт падать (и, если продолжить обучение дальше, начинает расти)\n",
    "* График ошибок показывает, что обученная модель неплохо справляется с одними данными, но при этом очень сильно ошибается с другими, эта разница возрастает с ростом значения температуры\n",
    "* Попробуем улучшить данную модель, используя незадействованные методы"
   ]
  },
  {
   "cell_type": "markdown",
   "metadata": {},
   "source": [
    "# Улучшение базовой нейронной сети"
   ]
  },
  {
   "cell_type": "markdown",
   "metadata": {},
   "source": [
    "Базовая модель переобучается, лосс на тестовой выборке начинает расти с уменьшением лосса на тренировочной выборке, следовательно, попробуем решить проблемы с обучением:\n",
    "* Проведём обучение батчами и попробуем разные размеры батча\n",
    "* Введём инициализацию весов\n",
    "* Добавим дропаут в первые два слоя\n",
    "\n",
    "Количество нейронов и функции активации оставим теми же."
   ]
  },
  {
   "cell_type": "code",
   "execution_count": 24,
   "metadata": {},
   "outputs": [],
   "source": [
    "# размер батча\n",
    "batch_size = 10\n",
    "\n",
    "# тензор датасеты и загрузчик\n",
    "train_ds = TensorDataset(X_train, y_train)\n",
    "test_ds = TensorDataset(X_test, y_test)\n"
   ]
  },
  {
   "cell_type": "code",
   "execution_count": 25,
   "metadata": {},
   "outputs": [],
   "source": [
    "# новая модель\n",
    "\n",
    "class Model(nn.Module):\n",
    "    def __init__(self, neurons: list, dropout_p):\n",
    "        super(Model, self).__init__()\n",
    "\n",
    "        self.fc1 = nn.Linear(neurons[0], neurons[1])\n",
    "\n",
    "        self.fc2 = nn.Linear(neurons[1], neurons[2])\n",
    "\n",
    "        self.fc3 = nn.Linear(neurons[2], neurons[3])\n",
    "\n",
    "        self.relu = nn.ReLU()\n",
    "\n",
    "        self.drop = nn.Dropout(p=dropout_p)\n",
    "    \n",
    "    def forward(self, x):\n",
    "\n",
    "        out = self.fc1(x)\n",
    "        out = self.relu(out)\n",
    "        out = self.drop(out)\n",
    "\n",
    "        out = self.fc2(out)\n",
    "        out = self.relu(out)\n",
    "        # out = self.drop(out)\n",
    "\n",
    "        out = self.fc3(out)\n",
    "        out = self.relu(out)\n",
    "\n",
    "        return out"
   ]
  },
  {
   "cell_type": "code",
   "execution_count": 47,
   "metadata": {},
   "outputs": [
    {
     "data": {
      "text/html": [
       "<div>\n",
       "<style scoped>\n",
       "    .dataframe tbody tr th:only-of-type {\n",
       "        vertical-align: middle;\n",
       "    }\n",
       "\n",
       "    .dataframe tbody tr th {\n",
       "        vertical-align: top;\n",
       "    }\n",
       "\n",
       "    .dataframe thead th {\n",
       "        text-align: right;\n",
       "    }\n",
       "</style>\n",
       "<table border=\"1\" class=\"dataframe\">\n",
       "  <thead>\n",
       "    <tr style=\"text-align: right;\">\n",
       "      <th></th>\n",
       "      <th>0.0</th>\n",
       "      <th>0.1</th>\n",
       "      <th>0.2</th>\n",
       "      <th>0.3</th>\n",
       "      <th>0.4</th>\n",
       "      <th>0.5</th>\n",
       "      <th>0.6</th>\n",
       "      <th>0.7</th>\n",
       "    </tr>\n",
       "  </thead>\n",
       "  <tbody>\n",
       "    <tr>\n",
       "      <th>20</th>\n",
       "      <td>NaN</td>\n",
       "      <td>NaN</td>\n",
       "      <td>NaN</td>\n",
       "      <td>NaN</td>\n",
       "      <td>NaN</td>\n",
       "      <td>NaN</td>\n",
       "      <td>NaN</td>\n",
       "      <td>NaN</td>\n",
       "    </tr>\n",
       "    <tr>\n",
       "      <th>40</th>\n",
       "      <td>NaN</td>\n",
       "      <td>NaN</td>\n",
       "      <td>NaN</td>\n",
       "      <td>NaN</td>\n",
       "      <td>NaN</td>\n",
       "      <td>NaN</td>\n",
       "      <td>NaN</td>\n",
       "      <td>NaN</td>\n",
       "    </tr>\n",
       "    <tr>\n",
       "      <th>60</th>\n",
       "      <td>NaN</td>\n",
       "      <td>NaN</td>\n",
       "      <td>NaN</td>\n",
       "      <td>NaN</td>\n",
       "      <td>NaN</td>\n",
       "      <td>NaN</td>\n",
       "      <td>NaN</td>\n",
       "      <td>NaN</td>\n",
       "    </tr>\n",
       "    <tr>\n",
       "      <th>80</th>\n",
       "      <td>NaN</td>\n",
       "      <td>NaN</td>\n",
       "      <td>NaN</td>\n",
       "      <td>NaN</td>\n",
       "      <td>NaN</td>\n",
       "      <td>NaN</td>\n",
       "      <td>NaN</td>\n",
       "      <td>NaN</td>\n",
       "    </tr>\n",
       "    <tr>\n",
       "      <th>100</th>\n",
       "      <td>NaN</td>\n",
       "      <td>NaN</td>\n",
       "      <td>NaN</td>\n",
       "      <td>NaN</td>\n",
       "      <td>NaN</td>\n",
       "      <td>NaN</td>\n",
       "      <td>NaN</td>\n",
       "      <td>NaN</td>\n",
       "    </tr>\n",
       "  </tbody>\n",
       "</table>\n",
       "</div>"
      ],
      "text/plain": [
       "     0.0  0.1  0.2  0.3  0.4  0.5  0.6  0.7\n",
       "20   NaN  NaN  NaN  NaN  NaN  NaN  NaN  NaN\n",
       "40   NaN  NaN  NaN  NaN  NaN  NaN  NaN  NaN\n",
       "60   NaN  NaN  NaN  NaN  NaN  NaN  NaN  NaN\n",
       "80   NaN  NaN  NaN  NaN  NaN  NaN  NaN  NaN\n",
       "100  NaN  NaN  NaN  NaN  NaN  NaN  NaN  NaN"
      ]
     },
     "execution_count": 47,
     "metadata": {},
     "output_type": "execute_result"
    }
   ],
   "source": [
    "final_report = pd.DataFrame(columns=[x for x in np.arange(0, 0.71, 0.1).round(1)], index=[x for x in range(20, 101, 20)])\n",
    "\n",
    "final_report"
   ]
  },
  {
   "cell_type": "code",
   "execution_count": 56,
   "metadata": {},
   "outputs": [
    {
     "name": "stderr",
     "output_type": "stream",
     "text": [
      "Batch size: 20 | Dropout coeff: 0.0:   0%|          | 0/1500 [00:00<?, ?e/s]"
     ]
    },
    {
     "name": "stderr",
     "output_type": "stream",
     "text": [
      "Batch size: 20 | Dropout coeff: 0.0: 100%|██████████| 1500/1500 [00:22<00:00, 67.24e/s]\n"
     ]
    },
    {
     "data": {
      "image/png": "[encoded data removed]",
      "text/plain": [
       "<Figure size 640x480 with 1 Axes>"
      ]
     },
     "metadata": {},
     "output_type": "display_data"
    },
    {
     "data": {
      "image/png": "[encoded data removed]",
      "text/plain": [
       "<Figure size 1200x500 with 1 Axes>"
      ]
     },
     "metadata": {},
     "output_type": "display_data"
    },
    {
     "name": "stdout",
     "output_type": "stream",
     "text": [
      "Train RMSE: 3615.0\n",
      "Test RMSE: 5020.0\n"
     ]
    }
   ],
   "source": [
    "epochs = 1500\n",
    "report_period = 100\n",
    "lr=0.05\n",
    "\n",
    "batch_min, batch_max, batch_step = 20, 101, 20\n",
    "p_min, p_max, p_step = 0, 0.71, 0.1\n",
    "\n",
    "# таблица для финального отчёта\n",
    "final_report = pd.DataFrame(\n",
    "    columns=[x for x in np.arange(p_min, p_max, p_step).round(1)],\n",
    "    index=[x for x in range(batch_min, batch_max, batch_step)]\n",
    ")\n",
    "\n",
    "# размер батча\n",
    "for batch_size in range(batch_min, batch_max, batch_step):\n",
    "    \n",
    "    reset_seed(RND)\n",
    "    train_loader = DataLoader(train_ds, batch_size=batch_size, shuffle=True)\n",
    "        \n",
    "    # значение дропаут\n",
    "    for p in np.arange(p_min, p_max, p_step).round(1):\n",
    "        reset_seed(RND)\n",
    "        model_report = TrainReport()\n",
    "        model = Model(neurons=neurons, dropout_p=p)\n",
    "        loss = nn.MSELoss()\n",
    "        optim = torch.optim.Adam(model.parameters(), lr=lr)\n",
    "\n",
    "        # обучение модели\n",
    "        for e in tqdm(range(epochs), desc=\"Batch size: {} | Dropout coeff: {}\".format(batch_size, p), unit='e'):\n",
    "            train_loss = []\n",
    "            for _, (X_batch, y_batch) in enumerate(train_loader):\n",
    "                optim.zero_grad()\n",
    "                preds = model(X_batch)\n",
    "                preds = preds.view(-1)\n",
    "                loss_value = loss(preds, y_batch)\n",
    "                train_loss.append(loss_value.item()) # добавляем в лист, чтобы посчитать среднее\n",
    "                loss_value.backward()\n",
    "                optim.step()\n",
    "            if e % report_period == 0 or e == epochs - 1:\n",
    "                model.eval()\n",
    "\n",
    "                test_preds = model.forward(X_test).flatten()\n",
    "                test_loss = loss(test_preds, y_test)\n",
    "                \n",
    "                model_report.add_to_lists(e, np.mean(train_loss), test_loss.item())\n",
    "\n",
    "                model.train()\n",
    "\n",
    "        model.eval()\n",
    "        model_report.report(test_preds, y_test, batch_size, p)\n",
    "        final_report.loc[batch_size, p] = np.sqrt(model_report.loss_test[-1]).round()\n",
    "\n",
    "final_report.columns = [\"Dropout: \" + str(x) for x in final_report.columns]\n",
    "final_report.index = [\"Batch size: \" + str(x) for x in final_report.index]"
   ]
  },
  {
   "cell_type": "markdown",
   "metadata": {},
   "source": [
    "# Выводы"
   ]
  }
 ],
 "metadata": {
  "kernelspec": {
   "display_name": "nn",
   "language": "python",
   "name": "python3"
  },
  "language_info": {
   "codemirror_mode": {
    "name": "ipython",
    "version": 3
   },
   "file_extension": ".py",
   "mimetype": "text/x-python",
   "name": "python",
   "nbconvert_exporter": "python",
   "pygments_lexer": "ipython3",
   "version": "3.10.12"
  },
  "orig_nbformat": 4
 },
 "nbformat": 4,
 "nbformat_minor": 2
}
